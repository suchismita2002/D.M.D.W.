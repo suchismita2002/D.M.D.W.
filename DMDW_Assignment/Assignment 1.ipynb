{
 "cells": [
  {
   "cell_type": "markdown",
   "id": "d765bfaf",
   "metadata": {},
   "source": [
    "## 1. First create list in python (Ex - [12,35,18,9,56,24]). Next find mean and median of the list without using any built-in/library functions"
   ]
  },
  {
   "cell_type": "code",
   "execution_count": 1,
   "id": "552c92dc",
   "metadata": {},
   "outputs": [
    {
     "name": "stdout",
     "output_type": "stream",
     "text": [
      "Mean is :  25.666666666666668\n",
      "Median is :  21\n"
     ]
    }
   ],
   "source": [
    "lst = [12,35,18,9,56,24]\n",
    "n = len(lst)\n",
    "s = sum(lst)\n",
    "mean = s/n\n",
    "print(\"Mean is : \",mean)\n",
    "lst.sort()\n",
    "if n%2 == 0:\n",
    "    mid1 = lst[n//2]\n",
    "    mid2 = lst[n//2-1]\n",
    "    median = (mid1+mid2)//2\n",
    "else:\n",
    "    median = lst[n//2]\n",
    "print(\"Median is : \",median)"
   ]
  },
  {
   "cell_type": "markdown",
   "id": "4b5ad6bd",
   "metadata": {},
   "source": [
    "## 2. First, create list in pythom (Ex - [2,3,1,1,6,2,1,5]). Next find the mode of the list without using any built-in/library functions."
   ]
  },
  {
   "cell_type": "code",
   "execution_count": 2,
   "id": "74eaaa77",
   "metadata": {},
   "outputs": [
    {
     "name": "stdout",
     "output_type": "stream",
     "text": [
      "Mode is :  [1]\n"
     ]
    }
   ],
   "source": [
    "list1=[2,3,1,1,6,2,1,5]\n",
    "list1.sort()\n",
    "list2 = []\n",
    "res = []\n",
    "for i in list1:\n",
    "    list2.append(list1.count(i))\n",
    "dic = dict(zip(list1,list2))\n",
    "for k,v in dic.items():\n",
    "    if v == max(list2):\n",
    "        res.append(k)\n",
    "print(\"Mode is : \",res)"
   ]
  },
  {
   "cell_type": "markdown",
   "id": "fc4fba21",
   "metadata": {},
   "source": [
    "## 3. First, create a list in python (Ex - [12,35,18,9,56,24]). Next, find the second smallest number and second highest number in the list."
   ]
  },
  {
   "cell_type": "code",
   "execution_count": 3,
   "id": "c6c7ee05",
   "metadata": {},
   "outputs": [
    {
     "name": "stdout",
     "output_type": "stream",
     "text": [
      "Second Smallest :  12\n",
      "Second Highest :  35\n"
     ]
    }
   ],
   "source": [
    "lst = [12,35,18,9,56,24]\n",
    "lst.sort()\n",
    "print(\"Second Smallest : \",lst[1])\n",
    "print(\"Second Highest : \",lst[-2])"
   ]
  },
  {
   "cell_type": "code",
   "execution_count": null,
   "id": "52c43125",
   "metadata": {},
   "outputs": [],
   "source": []
  }
 ],
 "metadata": {
  "kernelspec": {
   "display_name": "Python 3 (ipykernel)",
   "language": "python",
   "name": "python3"
  },
  "language_info": {
   "codemirror_mode": {
    "name": "ipython",
    "version": 3
   },
   "file_extension": ".py",
   "mimetype": "text/x-python",
   "name": "python",
   "nbconvert_exporter": "python",
   "pygments_lexer": "ipython3",
   "version": "3.10.0"
  }
 },
 "nbformat": 4,
 "nbformat_minor": 5
}
